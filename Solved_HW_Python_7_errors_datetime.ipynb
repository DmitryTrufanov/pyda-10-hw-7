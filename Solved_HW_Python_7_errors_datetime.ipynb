{
 "cells": [
  {
   "cell_type": "markdown",
   "metadata": {},
   "source": [
    "**Задание 1**  \n",
    "Печатные газеты использовали свой формат дат для каждого выпуска. Для каждой газеты из списка напишите формат указанной даты для перевода в объект datetime:  \n",
    "The Moscow Times - Wednesday, October 2, 2002  \n",
    "The Guardian - Friday, 11.10.13  \n",
    "Daily News - Thursday, 18 August 1977  "
   ]
  },
  {
   "cell_type": "code",
   "execution_count": 8,
   "metadata": {},
   "outputs": [
    {
     "name": "stdout",
     "output_type": "stream",
     "text": [
      "2002-10-02 00:00:00\n",
      "2013-10-11 00:00:00\n",
      "1977-08-18 00:00:00\n"
     ]
    }
   ],
   "source": [
    "from datetime import datetime\n",
    "\n",
    "The_Moscow_Times = 'Wednesday, October 2, 2002'\n",
    "The_Guardian = 'Friday, 11.10.13'\n",
    "Daily_News = 'Thursday, 18 August 1977'\n",
    "\n",
    "The_Moscow_Times_date = datetime.strptime(The_Moscow_Times, '%A, %B %d, %Y')\n",
    "print(The_Moscow_Times_date)\n",
    "\n",
    "The_Guardian_date = datetime.strptime(The_Guardian, '%A, %d.%m.%y')\n",
    "print(The_Guardian_date)\n",
    "\n",
    "Daily_News_date = datetime.strptime(Daily_News, '%A, %d %B %Y')\n",
    "print(Daily_News_date)"
   ]
  },
  {
   "cell_type": "markdown",
   "metadata": {},
   "source": [
    "**Задание 2**  \n",
    "Дан поток дат в формате YYYY-MM-DD, в которых встречаются некорректные значения:  \n",
    "stream = ['2018-04-02', '2018-02-29', '2018-19-02']  \n",
    "\n",
    "Напишите функцию, которая проверяет эти даты на корректность. Т. е. для каждой даты возвращает True (дата корректна) или False (некорректная дата). "
   ]
  },
  {
   "cell_type": "code",
   "execution_count": 14,
   "metadata": {},
   "outputs": [
    {
     "name": "stdout",
     "output_type": "stream",
     "text": [
      "2018-04-02: True дата корректна\n",
      "2018-02-29: True дата корректна\n",
      "2018-19-02: False некорректная дата\n"
     ]
    }
   ],
   "source": [
    "stream = ['2018-04-02', '2018-02-29', '2018-19-02']\n",
    "\n",
    "for date in stream:\n",
    "    if int(date[5:7]) > 12:\n",
    "        print(f'{date}: False некорректная дата')\n",
    "    else:\n",
    "        print(f'{date}: True дата корректна')"
   ]
  },
  {
   "cell_type": "markdown",
   "metadata": {},
   "source": [
    "**Задание 3**  \n",
    "Напишите функцию date_range, которая возвращает список дат за период от start_date до end_date.  \n",
    "Даты должны вводиться в формате YYYY-MM-DD.  \n",
    "В случае неверного формата или при start_date > end_date должен возвращаться пустой список."
   ]
  },
  {
   "cell_type": "code",
   "execution_count": 54,
   "metadata": {},
   "outputs": [
    {
     "name": "stdout",
     "output_type": "stream",
     "text": [
      "2020-01-01\n",
      "2020-01-02\n",
      "2020-01-03\n",
      "2020-01-04\n",
      "2020-01-05\n",
      "2020-01-06\n",
      "2020-01-07\n"
     ]
    }
   ],
   "source": [
    "from datetime import datetime\n",
    "from datetime import timedelta\n",
    "\n",
    "\n",
    "try:\n",
    "    start_date = '2020-01-01'\n",
    "    end_date = '2020-01-07'\n",
    "\n",
    "    start_date_dt = datetime.strptime(start_date, '%Y-%m-%d')\n",
    "    end_date_dt = datetime.strptime(end_date, '%Y-%m-%d')\n",
    "\n",
    "    current_dt = start_date_dt\n",
    "    \n",
    "    while current_dt <= end_date_dt:\n",
    "        print(current_dt.strftime('%Y-%m-%d'))\n",
    "        current_dt += timedelta(days=1)\n",
    "        \n",
    "except:\n",
    "    print([])\n"
   ]
  },
  {
   "cell_type": "code",
   "execution_count": 76,
   "metadata": {},
   "outputs": [
    {
     "ename": "SyntaxError",
     "evalue": "invalid syntax (<ipython-input-76-39c003dde584>, line 14)",
     "output_type": "error",
     "traceback": [
      "\u001b[1;36m  File \u001b[1;32m\"<ipython-input-76-39c003dde584>\"\u001b[1;36m, line \u001b[1;32m14\u001b[0m\n\u001b[1;33m    for current_dt < end_date_dt:\u001b[0m\n\u001b[1;37m                   ^\u001b[0m\n\u001b[1;31mSyntaxError\u001b[0m\u001b[1;31m:\u001b[0m invalid syntax\n"
     ]
    }
   ],
   "source": [
    "from datetime import datetime\n",
    "from datetime import timedelta\n",
    "\n",
    "\n",
    "try:\n",
    "    start_date = '2020-01-01'\n",
    "    end_date = '2020-01-07'\n",
    "\n",
    "    start_date_dt = datetime.strptime(start_date, '%Y-%m-%d')\n",
    "    end_date_dt = datetime.strptime(end_date, '%Y-%m-%d')\n",
    "\n",
    "    current_dt = start_date_dt\n",
    "    \n",
    "    for current_dt < end_date_dt:\n",
    "        print(current_dt.strftime('%Y-%m-%d'))\n",
    "        current_dt += timedelta(days=1)\n",
    "    \n",
    "except:\n",
    "    print([])"
   ]
  },
  {
   "cell_type": "code",
   "execution_count": 70,
   "metadata": {},
   "outputs": [],
   "source": [
    "DEFAULT_USER_COUNT = 3\n",
    "\n",
    "def delete_and_return_last_user(region, default_list=['A100', 'A101', 'A102']):\n",
    "    \n",
    "    #Удаляет из списка default_list последнего пользователя \n",
    "    #и возвращает ID нового последнего пользователя.\n",
    "    \n",
    "    element_to_delete = default_list[-1]\n",
    "    default_list.remove(element_to_delete)\n",
    "    \n",
    "    return default_list[DEFAULT_USER_COUNT-2]\n"
   ]
  },
  {
   "cell_type": "code",
   "execution_count": 71,
   "metadata": {},
   "outputs": [
    {
     "data": {
      "text/plain": [
       "'A101'"
      ]
     },
     "execution_count": 71,
     "metadata": {},
     "output_type": "execute_result"
    }
   ],
   "source": [
    "delete_and_return_last_user(1)"
   ]
  }
 ],
 "metadata": {
  "kernelspec": {
   "display_name": "Python 3",
   "language": "python",
   "name": "python3"
  },
  "language_info": {
   "codemirror_mode": {
    "name": "ipython",
    "version": 3
   },
   "file_extension": ".py",
   "mimetype": "text/x-python",
   "name": "python",
   "nbconvert_exporter": "python",
   "pygments_lexer": "ipython3",
   "version": "3.7.6"
  }
 },
 "nbformat": 4,
 "nbformat_minor": 4
}
